{
  "cells": [
    {
      "cell_type": "markdown",
      "metadata": {},
      "source": [
        "\n# Spherical augmentations\n\nCredit: A Grigis & C Ambroise\n\nA simple example on how to use augmentations in the spherical domain.\n"
      ]
    },
    {
      "cell_type": "code",
      "execution_count": null,
      "metadata": {
        "collapsed": false
      },
      "outputs": [],
      "source": [
        "import numpy as np\nimport matplotlib.pyplot as plt\nfrom surfify.utils import icosahedron, neighbors, min_depth_to_get_n_neighbors\nfrom surfify.plotting import plot_trisurf\nfrom surfify.augmentation import (\n    SurfCutOut, SurfNoise, SurfBlur, SurfRotation, HemiMixUp, GroupMixUp,\n    Transformer, interval)\n\nvertices, triangles = icosahedron(order=3)\nneighs = neighbors(vertices, triangles, direct_neighbor=True)\nmax_depth = min_depth_to_get_n_neighbors(np.ceil(len(vertices) / 4))\n\n\ndef display(vertices, triangles, texture, aug, add_axis=False, alpha=1, *args,\n            **kwargs):\n    \"\"\" Display augmented data.\n    \"\"\"\n    fig, axs = plt.subplots(\n        2, 2, subplot_kw={\"projection\": \"3d\", \"aspect\": \"auto\"},\n        figsize=(10, 10))\n    axs = axs.flatten()\n    plot_trisurf(vertices, triangles, texture, ax=axs[0], fig=fig,\n                 alpha=alpha, colorbar=False, edgecolors=\"white\",\n                 linewidths=0.2)\n    if add_axis:\n        axs[0].plot([0, 0], [0, 0], [-1, 1], c=\"red\")\n        axs[0].plot([0, 0], [-1, 1], [0, 0], c=\"blue\")\n        axs[0].plot([-1, 1], [0, 0], [0, 0], c=\"green\")\n    for idx in range(1, len(axs)):\n        _texture = aug(texture, *args, **kwargs)\n        if add_axis:\n            axs[idx].plot([0, 0], [0, 0], [-1, 1], c=\"red\")\n            axs[idx].plot([0, 0], [-1, 1], [0, 0], c=\"blue\")\n            axs[idx].plot([-1, 1], [0, 0], [0, 0], c=\"green\")\n        plot_trisurf(vertices, triangles, _texture, ax=axs[idx], fig=fig,\n                     alpha=alpha, colorbar=False, edgecolors=\"white\",\n                     linewidths=0.2)\n    fig.tight_layout()"
      ]
    },
    {
      "cell_type": "markdown",
      "metadata": {},
      "source": [
        "## SurfCutOut\n\n\n"
      ]
    },
    {
      "cell_type": "code",
      "execution_count": null,
      "metadata": {
        "collapsed": false
      },
      "outputs": [],
      "source": [
        "texture = np.array([1, ] * len(vertices))\naug = SurfCutOut(vertices, triangles, neighs=neighs,\n                 patch_size=interval((2, max_depth), int),\n                 n_patches=interval((1, 3), int),\n                 sigma=1)\ndisplay(vertices, triangles, texture, aug, alpha=0.3)"
      ]
    },
    {
      "cell_type": "markdown",
      "metadata": {},
      "source": [
        "## SurfNoise\n\n\n"
      ]
    },
    {
      "cell_type": "code",
      "execution_count": null,
      "metadata": {
        "collapsed": false
      },
      "outputs": [],
      "source": [
        "texture = np.random.uniform(0, 3, len(vertices))\naug = SurfNoise(sigma=interval((1, 3), float))\ndisplay(vertices, triangles, texture, aug)"
      ]
    },
    {
      "cell_type": "markdown",
      "metadata": {},
      "source": [
        "## SurfBlur\n\n\n"
      ]
    },
    {
      "cell_type": "code",
      "execution_count": null,
      "metadata": {
        "collapsed": false
      },
      "outputs": [],
      "source": [
        "texture = np.random.uniform(0, 2, len(vertices))\naug = SurfBlur(vertices, triangles, sigma=interval((0.1, 1), float))\ndisplay(vertices, triangles, texture, aug)"
      ]
    },
    {
      "cell_type": "markdown",
      "metadata": {},
      "source": [
        "## SurfRotation\n\n\n"
      ]
    },
    {
      "cell_type": "code",
      "execution_count": null,
      "metadata": {
        "collapsed": false
      },
      "outputs": [],
      "source": [
        "texture = np.array([1, ] * len(vertices))\naug = SurfRotation(vertices, triangles, phi=interval((5, 180), float), theta=0,\n                   psi=0)\ntexture[neighs[0]] = 0\ndisplay(vertices, triangles, texture, aug, add_axis=True, alpha=0.5)"
      ]
    },
    {
      "cell_type": "markdown",
      "metadata": {},
      "source": [
        "## HemiMixUp\n\n\n"
      ]
    },
    {
      "cell_type": "code",
      "execution_count": null,
      "metadata": {
        "collapsed": false
      },
      "outputs": [],
      "source": [
        "texture = np.random.uniform(0, 3, len(vertices))\ncontrolateral_texture = np.random.uniform(0, 3, len(vertices))\naug = HemiMixUp(prob=interval((0.2, 0.5), float), n_vertices=len(vertices))\ndisplay(vertices, triangles, texture, aug,\n        controlateral_data=controlateral_texture)"
      ]
    },
    {
      "cell_type": "markdown",
      "metadata": {},
      "source": [
        "## GroupMixUp\n\n\n"
      ]
    },
    {
      "cell_type": "code",
      "execution_count": null,
      "metadata": {
        "collapsed": false
      },
      "outputs": [],
      "source": [
        "texture = np.random.uniform(0, 3, len(vertices))\ngroup_textures = np.random.uniform(0, 3, (10, len(vertices)))\naug = GroupMixUp(prob=interval((0.2, 0.5), float), n_vertices=len(vertices))\ndisplay(vertices, triangles, texture, aug, group_data=group_textures,\n        n_samples=1)"
      ]
    },
    {
      "cell_type": "markdown",
      "metadata": {},
      "source": [
        "## GroupMixUp group\n\n\n"
      ]
    },
    {
      "cell_type": "code",
      "execution_count": null,
      "metadata": {
        "collapsed": false
      },
      "outputs": [],
      "source": [
        "textures = np.random.uniform(0, 3, (100, len(vertices)))\nneigh_ind = GroupMixUp.groupby(textures, n_neighbors=4, n_components=30)\nprint(neigh_ind)"
      ]
    },
    {
      "cell_type": "markdown",
      "metadata": {},
      "source": [
        "## Transformer\n\n\n"
      ]
    },
    {
      "cell_type": "code",
      "execution_count": null,
      "metadata": {
        "collapsed": false
      },
      "outputs": [],
      "source": [
        "texture = np.random.uniform(0, 3, len(vertices))\naug1 = SurfCutOut(vertices, triangles, neighs=neighs,\n                  patch_size=interval((1, max_depth), int),\n                  n_patches=interval((1, 3), int))\naug2 = SurfNoise(sigma=interval((1, 3), float))\naug3 = SurfBlur(vertices, triangles, sigma=interval((0.1, 1), float))\ntrans = Transformer()\ntrans.register(aug1, probability=.75)\ntrans.register(aug2, probability=.75)\ntrans.register(aug3, probability=.5)\ndisplay(vertices, triangles, texture, trans)\n\nplt.show()"
      ]
    }
  ],
  "metadata": {
    "kernelspec": {
      "display_name": "Python 3",
      "language": "python",
      "name": "python3"
    },
    "language_info": {
      "codemirror_mode": {
        "name": "ipython",
        "version": 3
      },
      "file_extension": ".py",
      "mimetype": "text/x-python",
      "name": "python",
      "nbconvert_exporter": "python",
      "pygments_lexer": "ipython3",
      "version": "3.12.10"
    }
  },
  "nbformat": 4,
  "nbformat_minor": 0
}